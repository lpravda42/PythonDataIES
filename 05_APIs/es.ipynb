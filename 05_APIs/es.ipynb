{
 "cells": [
  {
   "cell_type": "code",
   "execution_count": 1,
   "metadata": {},
   "outputs": [],
   "source": [
    "import pandas as pd\n",
    "import requests\n",
    "from io import StringIO\n",
    "\n",
    "r = requests.get('https://ec.europa.eu/eurostat/api/dissemination/sdmx/2.1/data/NAMA_10_GDP?format=SDMX-CSV')"
   ]
  },
  {
   "cell_type": "code",
   "execution_count": 2,
   "metadata": {},
   "outputs": [
    {
     "name": "stdout",
     "output_type": "stream",
     "text": [
      "                      DATAFLOW        LAST UPDATE freq        unit na_item  \\\n",
      "0       ESTAT:NAMA_10_GDP(1.0)  17/03/23 23:00:00    A  CLV05_MEUR     B1G   \n",
      "1       ESTAT:NAMA_10_GDP(1.0)  17/03/23 23:00:00    A  CLV05_MEUR     B1G   \n",
      "2       ESTAT:NAMA_10_GDP(1.0)  17/03/23 23:00:00    A  CLV05_MEUR     B1G   \n",
      "3       ESTAT:NAMA_10_GDP(1.0)  17/03/23 23:00:00    A  CLV05_MEUR     B1G   \n",
      "4       ESTAT:NAMA_10_GDP(1.0)  17/03/23 23:00:00    A  CLV05_MEUR     B1G   \n",
      "...                        ...                ...  ...         ...     ...   \n",
      "842372  ESTAT:NAMA_10_GDP(1.0)  17/03/23 23:00:00    A    PYP_MNAC     YA1   \n",
      "842373  ESTAT:NAMA_10_GDP(1.0)  17/03/23 23:00:00    A    PYP_MNAC     YA1   \n",
      "842374  ESTAT:NAMA_10_GDP(1.0)  17/03/23 23:00:00    A    PYP_MNAC     YA1   \n",
      "842375  ESTAT:NAMA_10_GDP(1.0)  17/03/23 23:00:00    A    PYP_MNAC     YA1   \n",
      "842376  ESTAT:NAMA_10_GDP(1.0)  17/03/23 23:00:00    A    PYP_MNAC     YA1   \n",
      "\n",
      "       geo  TIME_PERIOD  OBS_VALUE OBS_FLAG  \n",
      "0       AT         1995   177617.0      NaN  \n",
      "1       AT         1996   180999.4      NaN  \n",
      "2       AT         1997   184799.1      NaN  \n",
      "3       AT         1998   192025.4      NaN  \n",
      "4       AT         1999   198247.2      NaN  \n",
      "...     ..          ...        ...      ...  \n",
      "842372  XK         2017        0.0      NaN  \n",
      "842373  XK         2018        0.0      NaN  \n",
      "842374  XK         2019        0.0      NaN  \n",
      "842375  XK         2020        0.0      NaN  \n",
      "842376  XK         2021        0.0      NaN  \n",
      "\n",
      "[842377 rows x 9 columns]\n"
     ]
    }
   ],
   "source": [
    "df = pd.read_csv(StringIO(r.text))\n",
    "print(df)"
   ]
  },
  {
   "cell_type": "code",
   "execution_count": 5,
   "metadata": {},
   "outputs": [
    {
     "data": {
      "text/plain": [
       "array(['A'], dtype=object)"
      ]
     },
     "execution_count": 5,
     "metadata": {},
     "output_type": "execute_result"
    }
   ],
   "source": [
    "df.unit.unique()\n",
    "df[\"freq\"].unique()"
   ]
  }
 ],
 "metadata": {
  "kernelspec": {
   "display_name": "Python 3",
   "language": "python",
   "name": "python3"
  },
  "language_info": {
   "codemirror_mode": {
    "name": "ipython",
    "version": 3
   },
   "file_extension": ".py",
   "mimetype": "text/x-python",
   "name": "python",
   "nbconvert_exporter": "python",
   "pygments_lexer": "ipython3",
   "version": "3.11.2"
  },
  "orig_nbformat": 4
 },
 "nbformat": 4,
 "nbformat_minor": 2
}
