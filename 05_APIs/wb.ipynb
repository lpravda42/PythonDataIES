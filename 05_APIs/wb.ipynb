{
 "cells": [
  {
   "cell_type": "code",
   "execution_count": 3,
   "metadata": {},
   "outputs": [
    {
     "name": "stdout",
     "output_type": "stream",
     "text": [
      "[{\"page\":1,\"pages\":971,\"per_page\":17,\"total\":16492,\"sourceid\":\"2\",\"sourcename\":\"World Development Indicators\",\"lastupdated\":\"2023-03-01\"},[{\"indicator\":{\"id\":\"SP.POP.TOTL\",\"value\":\"Population, total\"},\"country\":{\"id\":\"ZH\",\"value\":\"Africa Eastern and Southern\"},\"countryiso3code\":\"AFE\",\"date\":\"2021\",\"value\":702976832,\"unit\":\"\",\"obs_status\":\"\",\"decimal\":0},{\"indicator\":{\"id\":\"SP.POP.TOTL\",\"value\":\"Population, total\"},\"country\":{\"id\":\"ZH\",\"value\":\"Africa Eastern and Southern\"},\"countryiso3code\":\"AFE\",\"date\":\"2020\",\"value\":685112705,\"unit\":\"\",\"obs_status\":\"\",\"decimal\":0},{\"indicator\":{\"id\":\"SP.POP.TOTL\",\"value\":\"Population, total\"},\"country\":{\"id\":\"ZH\",\"value\":\"Africa Eastern and Southern\"},\"countryiso3code\":\"AFE\",\"date\":\"2019\",\"value\":667242712,\"unit\":\"\",\"obs_status\":\"\",\"decimal\":0},{\"indicator\":{\"id\":\"SP.POP.TOTL\",\"value\":\"Population, total\"},\"country\":{\"id\":\"ZH\",\"value\":\"Africa Eastern and Southern\"},\"countryiso3code\":\"AFE\",\"date\":\"2018\",\"value\":649756874,\"unit\":\"\",\"obs_status\":\"\",\"decimal\":0},{\"indicator\":{\"id\":\"SP.POP.TOTL\",\"value\":\"Population, total\"},\"country\":{\"id\":\"ZH\",\"value\":\"Africa Eastern and Southern\"},\"countryiso3code\":\"AFE\",\"date\":\"2017\",\"value\":632746296,\"unit\":\"\",\"obs_status\":\"\",\"decimal\":0},{\"indicator\":{\"id\":\"SP.POP.TOTL\",\"value\":\"Population, total\"},\"country\":{\"id\":\"ZH\",\"value\":\"Africa Eastern and Southern\"},\"countryiso3code\":\"AFE\",\"date\":\"2016\",\"value\":616377331,\"unit\":\"\",\"obs_status\":\"\",\"decimal\":0},{\"indicator\":{\"id\":\"SP.POP.TOTL\",\"value\":\"Population, total\"},\"country\":{\"id\":\"ZH\",\"value\":\"Africa Eastern and Southern\"},\"countryiso3code\":\"AFE\",\"date\":\"2015\",\"value\":600008150,\"unit\":\"\",\"obs_status\":\"\",\"decimal\":0},{\"indicator\":{\"id\":\"SP.POP.TOTL\",\"value\":\"Population, total\"},\"country\":{\"id\":\"ZH\",\"value\":\"Africa Eastern and Southern\"},\"countryiso3code\":\"AFE\",\"date\":\"2014\",\"value\":583650827,\"unit\":\"\",\"obs_status\":\"\",\"decimal\":0},{\"indicator\":{\"id\":\"SP.POP.TOTL\",\"value\":\"Population, total\"},\"country\":{\"id\":\"ZH\",\"value\":\"Africa Eastern and Southern\"},\"countryiso3code\":\"AFE\",\"date\":\"2013\",\"value\":567891875,\"unit\":\"\",\"obs_status\":\"\",\"decimal\":0},{\"indicator\":{\"id\":\"SP.POP.TOTL\",\"value\":\"Population, total\"},\"country\":{\"id\":\"ZH\",\"value\":\"Africa Eastern and Southern\"},\"countryiso3code\":\"AFE\",\"date\":\"2012\",\"value\":552530654,\"unit\":\"\",\"obs_status\":\"\",\"decimal\":0},{\"indicator\":{\"id\":\"SP.POP.TOTL\",\"value\":\"Population, total\"},\"country\":{\"id\":\"ZH\",\"value\":\"Africa Eastern and Southern\"},\"countryiso3code\":\"AFE\",\"date\":\"2011\",\"value\":537792950,\"unit\":\"\",\"obs_status\":\"\",\"decimal\":0},{\"indicator\":{\"id\":\"SP.POP.TOTL\",\"value\":\"Population, total\"},\"country\":{\"id\":\"ZH\",\"value\":\"Africa Eastern and Southern\"},\"countryiso3code\":\"AFE\",\"date\":\"2010\",\"value\":523459657,\"unit\":\"\",\"obs_status\":\"\",\"decimal\":0},{\"indicator\":{\"id\":\"SP.POP.TOTL\",\"value\":\"Population, total\"},\"country\":{\"id\":\"ZH\",\"value\":\"Africa Eastern and Southern\"},\"countryiso3code\":\"AFE\",\"date\":\"2009\",\"value\":509410477,\"unit\":\"\",\"obs_status\":\"\",\"decimal\":0},{\"indicator\":{\"id\":\"SP.POP.TOTL\",\"value\":\"Population, total\"},\"country\":{\"id\":\"ZH\",\"value\":\"Africa Eastern and Southern\"},\"countryiso3code\":\"AFE\",\"date\":\"2008\",\"value\":495748900,\"unit\":\"\",\"obs_status\":\"\",\"decimal\":0},{\"indicator\":{\"id\":\"SP.POP.TOTL\",\"value\":\"Population, total\"},\"country\":{\"id\":\"ZH\",\"value\":\"Africa Eastern and Southern\"},\"countryiso3code\":\"AFE\",\"date\":\"2007\",\"value\":482406426,\"unit\":\"\",\"obs_status\":\"\",\"decimal\":0},{\"indicator\":{\"id\":\"SP.POP.TOTL\",\"value\":\"Population, total\"},\"country\":{\"id\":\"ZH\",\"value\":\"Africa Eastern and Southern\"},\"countryiso3code\":\"AFE\",\"date\":\"2006\",\"value\":469508516,\"unit\":\"\",\"obs_status\":\"\",\"decimal\":0},{\"indicator\":{\"id\":\"SP.POP.TOTL\",\"value\":\"Population, total\"},\"country\":{\"id\":\"ZH\",\"value\":\"Africa Eastern and Southern\"},\"countryiso3code\":\"AFE\",\"date\":\"2005\",\"value\":457153837,\"unit\":\"\",\"obs_status\":\"\",\"decimal\":0}]]\n"
     ]
    },
    {
     "data": {
      "text/plain": [
       "'\\ndf = pd.DataFrame(r[1])\\n\\n#df = pd.concat([df, df[\"indicator\"].apply(pd.Series)], axis = 1).copy(deep = True)\\ndf = df.rename(columns = {\"value\": \"population\"})\\ndf = pd.concat([df, df[\"country\"].apply(pd.Series)], axis = 1).copy(deep = True)\\n\\ndf = pd.pivot_table(df, values = \"population\", index = \"date\", columns = \"value\")\\n#df.plot(style = \".\", grid = True)\\n'"
      ]
     },
     "execution_count": 3,
     "metadata": {},
     "output_type": "execute_result"
    }
   ],
   "source": [
    "import requests\n",
    "import pandas as pd\n",
    "\n",
    "r = requests.get('http://api.worldbank.org/v2/country/all/indicator/SP.POP.TOTL?format=json&per_page=17000').json()\n",
    "\n",
    "#print(r) - pages & per page !!!!!!!!!!!!!!!!!\n",
    "\n",
    "df = pd.DataFrame(r[1])\n",
    "\n",
    "#df = pd.concat([df, df[\"indicator\"].apply(pd.Series)], axis = 1).copy(deep = True)\n",
    "df = df.rename(columns = {\"value\": \"population\"})\n",
    "df = pd.concat([df, df[\"country\"].apply(pd.Series)], axis = 1).copy(deep = True)\n",
    "\n",
    "df = pd.pivot_table(df, values = \"population\", index = \"date\", columns = \"value\")\n",
    "df.plot(style = \".\", grid = True)\n"
   ]
  }
 ],
 "metadata": {
  "kernelspec": {
   "display_name": "Python 3",
   "language": "python",
   "name": "python3"
  },
  "language_info": {
   "codemirror_mode": {
    "name": "ipython",
    "version": 3
   },
   "file_extension": ".py",
   "mimetype": "text/x-python",
   "name": "python",
   "nbconvert_exporter": "python",
   "pygments_lexer": "ipython3",
   "version": "3.11.2"
  },
  "orig_nbformat": 4
 },
 "nbformat": 4,
 "nbformat_minor": 2
}
